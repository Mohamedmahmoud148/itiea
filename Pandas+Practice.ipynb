{
  "cells": [
    {
      "cell_type": "markdown",
      "metadata": {
        "collapsed": true,
        "jupyter": {
          "outputs_hidden": true
        },
        "id": "n5-R_fAsmAxK"
      },
      "source": [
        "# Part 1"
      ]
    },
    {
      "cell_type": "markdown",
      "metadata": {
        "id": "MkAG1IMFmAxM"
      },
      "source": [
        "The file \"Purchase_Data.csv\" contains purchase data at a Chinese supermarket for various products.  Read this csv into a dataframe called df_data and use the head() method to check that you have read in the data correctly. Make sure you import pandas."
      ]
    },
    {
      "cell_type": "code",
      "execution_count": 58,
      "metadata": {
        "jupyter": {
          "outputs_hidden": false
        },
        "colab": {
          "base_uri": "https://localhost:8080/"
        },
        "id": "m9Lu2sEHmAxN",
        "outputId": "77f6f887-dd9d-44d0-d46d-25876e84e911"
      },
      "outputs": [
        {
          "output_type": "stream",
          "name": "stdout",
          "text": [
            "Drive already mounted at /content/drive; to attempt to forcibly remount, call drive.mount(\"/content/drive\", force_remount=True).\n",
            "CSV file loaded successfully! Here are the first few rows:\n",
            "   invoice_number   invoice_time store_id  product_id  category_id  num_item  \\\n",
            "0    2.020000e+11  7/15/15 10:45     G816     7000300       210101       1.0   \n",
            "1    2.020000e+11  7/15/15 12:16     G816     7070884        70203       1.0   \n",
            "2    2.020000e+11  7/15/15 12:16     G816     7070884        70203       1.0   \n",
            "3    2.020000e+11  7/15/15 12:16     G816     7070891        70401       1.0   \n",
            "4    2.020000e+11  7/15/15 12:16     G816     7090363        70401       1.0   \n",
            "\n",
            "   price  \n",
            "0    2.0  \n",
            "1    2.0  \n",
            "2    2.0  \n",
            "3    6.0  \n",
            "4    6.0  \n"
          ]
        }
      ],
      "source": [
        "#Write your code here\n",
        "# Step 1: Mount Google Drive\n",
        "from google.colab import drive\n",
        "drive.mount('/content/drive')\n",
        "\n",
        "# Step 2: Import pandas\n",
        "import pandas as pd\n",
        "import numpy as np\n",
        "\n",
        "file_path = '/content/drive/MyDrive/Purchase_Data.csv'\n",
        "df = pd.read_csv(file_path)\n",
        "\n",
        "\n",
        "print(\"CSV file loaded successfully! Here are the first few rows:\")\n",
        "print(df.head())\n"
      ]
    },
    {
      "cell_type": "markdown",
      "metadata": {
        "id": "uvrnhpv0mAxO"
      },
      "source": [
        "Use the dtypes attribute to view how each column is stored"
      ]
    },
    {
      "cell_type": "code",
      "execution_count": 59,
      "metadata": {
        "jupyter": {
          "outputs_hidden": false
        },
        "colab": {
          "base_uri": "https://localhost:8080/"
        },
        "id": "D6nfi_70mAxO",
        "outputId": "3a03288b-667c-4f5e-f217-b57d1e316134"
      },
      "outputs": [
        {
          "output_type": "stream",
          "name": "stdout",
          "text": [
            "invoice_number    float64\n",
            "invoice_time       object\n",
            "store_id           object\n",
            "product_id          int64\n",
            "category_id         int64\n",
            "num_item          float64\n",
            "price             float64\n",
            "dtype: object\n"
          ]
        }
      ],
      "source": [
        "#Write your code here\n",
        "print(df.dtypes)"
      ]
    },
    {
      "cell_type": "markdown",
      "metadata": {
        "id": "J6xNzCZBmAxO"
      },
      "source": [
        "Slice the first two columns using .loc and store the result in a variable called result_1."
      ]
    },
    {
      "cell_type": "code",
      "execution_count": 60,
      "metadata": {
        "jupyter": {
          "outputs_hidden": false
        },
        "colab": {
          "base_uri": "https://localhost:8080/"
        },
        "id": "KPYN6HKqmAxO",
        "outputId": "0164d524-0a45-40f1-cd10-0eec7d54d334"
      },
      "outputs": [
        {
          "output_type": "stream",
          "name": "stdout",
          "text": [
            "      invoice_number   invoice_time\n",
            "0       2.020000e+11  7/15/15 10:45\n",
            "1       2.020000e+11  7/15/15 12:16\n",
            "2       2.020000e+11  7/15/15 12:16\n",
            "3       2.020000e+11  7/15/15 12:16\n",
            "4       2.020000e+11  7/15/15 12:16\n",
            "...              ...            ...\n",
            "5377    2.020000e+11   9/5/15 23:07\n",
            "5378    2.020000e+11   9/5/15 23:23\n",
            "5379    2.020000e+11   9/5/15 23:24\n",
            "5380    2.020000e+11   9/5/15 23:32\n",
            "5381    2.020000e+11   9/5/15 23:38\n",
            "\n",
            "[5382 rows x 2 columns]\n"
          ]
        }
      ],
      "source": [
        "#Write you code here\n",
        "\n",
        "result_1 = df.loc[:, 'invoice_number':'invoice_time']\n",
        "print(result_1)"
      ]
    },
    {
      "cell_type": "markdown",
      "metadata": {
        "id": "JBAzaOcOmAxP"
      },
      "source": [
        "Slice the first two rows using .loc and store the result in a variable called result_2."
      ]
    },
    {
      "cell_type": "code",
      "execution_count": 61,
      "metadata": {
        "jupyter": {
          "outputs_hidden": false
        },
        "colab": {
          "base_uri": "https://localhost:8080/"
        },
        "id": "OZuFGgOmmAxP",
        "outputId": "8dfc26b9-60de-4569-e5f0-9dbfe025183d"
      },
      "outputs": [
        {
          "output_type": "stream",
          "name": "stdout",
          "text": [
            "   invoice_number   invoice_time store_id  product_id  category_id  num_item  \\\n",
            "0    2.020000e+11  7/15/15 10:45     G816     7000300       210101       1.0   \n",
            "1    2.020000e+11  7/15/15 12:16     G816     7070884        70203       1.0   \n",
            "\n",
            "   price  \n",
            "0    2.0  \n",
            "1    2.0  \n"
          ]
        }
      ],
      "source": [
        "#Write you code here\n",
        "result_2 = df.loc[0:1, :]\n",
        "print(result_2)"
      ]
    },
    {
      "cell_type": "markdown",
      "metadata": {
        "id": "xO6r3IggmAxP"
      },
      "source": [
        "Slice the first four rows and the first five columns and store the result in a variable called result_3."
      ]
    },
    {
      "cell_type": "code",
      "execution_count": 62,
      "metadata": {
        "jupyter": {
          "outputs_hidden": false
        },
        "colab": {
          "base_uri": "https://localhost:8080/"
        },
        "id": "XpoXxHZ7mAxP",
        "outputId": "7ac793ed-c77d-468b-908a-2a9447b76a31"
      },
      "outputs": [
        {
          "output_type": "stream",
          "name": "stdout",
          "text": [
            "   invoice_number   invoice_time store_id  product_id  category_id\n",
            "0    2.020000e+11  7/15/15 10:45     G816     7000300       210101\n",
            "1    2.020000e+11  7/15/15 12:16     G816     7070884        70203\n",
            "2    2.020000e+11  7/15/15 12:16     G816     7070884        70203\n",
            "3    2.020000e+11  7/15/15 12:16     G816     7070891        70401\n"
          ]
        }
      ],
      "source": [
        "#Write your code here\n",
        "result_3 = df.iloc[:4, :5]\n",
        "print(result_3)"
      ]
    },
    {
      "cell_type": "markdown",
      "metadata": {
        "id": "j6jGx-t1mAxP"
      },
      "source": [
        "Slice rows 0,4,6 and columns invoice time and price and store the result in variable called result_4."
      ]
    },
    {
      "cell_type": "code",
      "execution_count": 63,
      "metadata": {
        "jupyter": {
          "outputs_hidden": false
        },
        "colab": {
          "base_uri": "https://localhost:8080/"
        },
        "id": "FjI47DrsmAxQ",
        "outputId": "eac26f60-8a15-4b71-c416-bd8553e7ea5a"
      },
      "outputs": [
        {
          "output_type": "stream",
          "name": "stdout",
          "text": [
            "    invoice_time  price\n",
            "0  7/15/15 10:45    2.0\n",
            "4  7/15/15 12:16    6.0\n",
            "6  7/15/15 15:28    2.0\n"
          ]
        }
      ],
      "source": [
        "#Write your code here\n",
        "result_4 = df.loc[[0, 4, 6], ['invoice_time', 'price']]\n",
        "print(result_4)"
      ]
    },
    {
      "cell_type": "markdown",
      "metadata": {
        "id": "v-HP4t4DmAxQ"
      },
      "source": [
        "Store the number rows in a variable called num_rows."
      ]
    },
    {
      "cell_type": "code",
      "execution_count": 64,
      "metadata": {
        "jupyter": {
          "outputs_hidden": false
        },
        "colab": {
          "base_uri": "https://localhost:8080/"
        },
        "id": "niVRBHdcmAxQ",
        "outputId": "4a6d9497-e897-4787-bd5e-579d2e4f088b"
      },
      "outputs": [
        {
          "output_type": "stream",
          "name": "stdout",
          "text": [
            "5382\n"
          ]
        }
      ],
      "source": [
        "num_rows = df.shape[0]\n",
        "print(num_rows)\n"
      ]
    },
    {
      "cell_type": "markdown",
      "metadata": {
        "id": "Rju_fP3-mAxQ"
      },
      "source": [
        "Print out the last row of the data to dataframe. **Hint:** use the variable num_rows from the previous exercise."
      ]
    },
    {
      "cell_type": "code",
      "execution_count": 65,
      "metadata": {
        "jupyter": {
          "outputs_hidden": false
        },
        "colab": {
          "base_uri": "https://localhost:8080/"
        },
        "id": "MVj2o3yWmAxQ",
        "outputId": "332730c2-283f-4722-c850-fcf10088cbd3"
      },
      "outputs": [
        {
          "output_type": "stream",
          "name": "stdout",
          "text": [
            "invoice_number    202000000000.0\n",
            "invoice_time        9/5/15 23:38\n",
            "store_id                    G619\n",
            "product_id              23030206\n",
            "category_id               210101\n",
            "num_item                     1.0\n",
            "price                        2.0\n",
            "Name: 5381, dtype: object\n"
          ]
        }
      ],
      "source": [
        "#Write your code here\n",
        "num_rows = df.shape[0]\n",
        "last_row = df.iloc[num_rows - 1, :]\n",
        "print(last_row)"
      ]
    },
    {
      "cell_type": "markdown",
      "metadata": {
        "id": "gdye8NB6mAxQ"
      },
      "source": [
        "# Part 2"
      ]
    },
    {
      "cell_type": "markdown",
      "metadata": {
        "id": "rbIsxz8RmAxQ"
      },
      "source": [
        "Compute the average and max price charged.  Store the results in variables called avg_price and max_price"
      ]
    },
    {
      "cell_type": "code",
      "execution_count": 66,
      "metadata": {
        "jupyter": {
          "outputs_hidden": false
        },
        "colab": {
          "base_uri": "https://localhost:8080/"
        },
        "id": "kxDpKBjVmAxQ",
        "outputId": "b55ed4cb-b32e-4fa7-b2ec-138ccecfc9e1"
      },
      "outputs": [
        {
          "output_type": "stream",
          "name": "stdout",
          "text": [
            "3.1920522110741363\n",
            "6.01\n"
          ]
        }
      ],
      "source": [
        "#Write your code here\n",
        "avg_price = df['price'].mean()\n",
        "max_price = df['price'].max()\n",
        "print(avg_price)\n",
        "print(max_price)"
      ]
    },
    {
      "cell_type": "markdown",
      "metadata": {
        "id": "tApv-hoRmAxQ"
      },
      "source": [
        "Compute the average price and average number of items purchased with only a single call to the mean() method. Store these averages in avg_price and avg_num_items."
      ]
    },
    {
      "cell_type": "code",
      "execution_count": 67,
      "metadata": {
        "jupyter": {
          "outputs_hidden": false
        },
        "colab": {
          "base_uri": "https://localhost:8080/"
        },
        "id": "H9Gpam_KmAxR",
        "outputId": "bb240478-40ed-4a36-c423-0cab868e308a"
      },
      "outputs": [
        {
          "output_type": "stream",
          "name": "stdout",
          "text": [
            "price       3.192052\n",
            "num_item    1.298309\n",
            "dtype: float64\n"
          ]
        }
      ],
      "source": [
        "#Write you code here\n",
        "avg_price = df[['price', 'num_item']].mean()\n",
        "print(avg_price)\n"
      ]
    },
    {
      "cell_type": "markdown",
      "metadata": {
        "id": "mbsyorbdmAxR"
      },
      "source": [
        "Create a column called \"total\", which is the product of the price and num_item columns."
      ]
    },
    {
      "cell_type": "code",
      "execution_count": 68,
      "metadata": {
        "jupyter": {
          "outputs_hidden": false
        },
        "colab": {
          "base_uri": "https://localhost:8080/"
        },
        "id": "goib6ywAmAxR",
        "outputId": "5ce36f90-f8a4-4481-fbf3-fa6da2996be0"
      },
      "outputs": [
        {
          "output_type": "stream",
          "name": "stdout",
          "text": [
            "      invoice_number   invoice_time store_id  product_id  category_id  \\\n",
            "0       2.020000e+11  7/15/15 10:45     G816     7000300       210101   \n",
            "1       2.020000e+11  7/15/15 12:16     G816     7070884        70203   \n",
            "2       2.020000e+11  7/15/15 12:16     G816     7070884        70203   \n",
            "3       2.020000e+11  7/15/15 12:16     G816     7070891        70401   \n",
            "4       2.020000e+11  7/15/15 12:16     G816     7090363        70401   \n",
            "...              ...            ...      ...         ...          ...   \n",
            "5377    2.020000e+11   9/5/15 23:07      300     7308017       210101   \n",
            "5378    2.020000e+11   9/5/15 23:23     G619     7070891        70401   \n",
            "5379    2.020000e+11   9/5/15 23:24     G619     7071096        70201   \n",
            "5380    2.020000e+11   9/5/15 23:32     G619    15000231        70301   \n",
            "5381    2.020000e+11   9/5/15 23:38     G619    23030206       210101   \n",
            "\n",
            "      num_item  price  total  \n",
            "0          1.0    2.0    2.0  \n",
            "1          1.0    2.0    2.0  \n",
            "2          1.0    2.0    2.0  \n",
            "3          1.0    6.0    6.0  \n",
            "4          1.0    6.0    6.0  \n",
            "...        ...    ...    ...  \n",
            "5377       1.0    3.0    3.0  \n",
            "5378       1.0    6.0    6.0  \n",
            "5379       1.0    5.0    5.0  \n",
            "5380       2.0    2.0    4.0  \n",
            "5381       1.0    2.0    2.0  \n",
            "\n",
            "[5382 rows x 8 columns]\n"
          ]
        }
      ],
      "source": [
        "#Write your code here\n",
        "df['total'] = df['price'] * df['num_item']\n",
        "print(df)\n"
      ]
    },
    {
      "cell_type": "markdown",
      "metadata": {
        "id": "I628aAWGmAxR"
      },
      "source": [
        "What is the avgerage price of the three most expensive purchases?"
      ]
    },
    {
      "cell_type": "code",
      "execution_count": 69,
      "metadata": {
        "jupyter": {
          "outputs_hidden": false
        },
        "id": "qgTCbT47mAxR"
      },
      "outputs": [],
      "source": [
        "#Write your code here\n",
        "sorted_df = df.sort_values(by='total', ascending=False)\n",
        "top_three_expensive = sorted_df.head(3)\n",
        "avg_price_top_three = top_three_expensive['total'].mean()\n"
      ]
    },
    {
      "cell_type": "markdown",
      "metadata": {
        "id": "86p_akGLmAxR"
      },
      "source": [
        "How many different products are there?"
      ]
    },
    {
      "cell_type": "markdown",
      "metadata": {
        "id": "5m8dUtTnmAxR"
      },
      "source": [
        "Find the difference between the mean and median of the column total.  Use the describe() method and then index the dataframe it returns."
      ]
    },
    {
      "cell_type": "code",
      "execution_count": 70,
      "metadata": {
        "jupyter": {
          "outputs_hidden": false
        },
        "colab": {
          "base_uri": "https://localhost:8080/"
        },
        "id": "uH_7K-wKmAxR",
        "outputId": "d394dd14-c833-4029-dfeb-a61d6fb432d3"
      },
      "outputs": [
        {
          "output_type": "stream",
          "name": "stdout",
          "text": [
            "0.9318078781127839\n"
          ]
        }
      ],
      "source": [
        "#Write your code here\n",
        "summary_stats = df['total'].describe()\n",
        "mean_total = summary_stats['mean']\n",
        "median_total = summary_stats['50%']\n",
        "difference = mean_total - median_total\n",
        "print(difference)\n"
      ]
    },
    {
      "cell_type": "markdown",
      "metadata": {
        "id": "WhqHbHyTmAxR"
      },
      "source": [
        "Use the drop() method to delete the column total from the dataframe df_data."
      ]
    },
    {
      "cell_type": "code",
      "execution_count": 71,
      "metadata": {
        "jupyter": {
          "outputs_hidden": false
        },
        "colab": {
          "base_uri": "https://localhost:8080/"
        },
        "id": "hJp7i3x9mAxR",
        "outputId": "fd886b3a-7861-4b1a-df03-feaa247ca85d"
      },
      "outputs": [
        {
          "output_type": "stream",
          "name": "stdout",
          "text": [
            "      invoice_number   invoice_time store_id  product_id  category_id  \\\n",
            "0       2.020000e+11  7/15/15 10:45     G816     7000300       210101   \n",
            "1       2.020000e+11  7/15/15 12:16     G816     7070884        70203   \n",
            "2       2.020000e+11  7/15/15 12:16     G816     7070884        70203   \n",
            "3       2.020000e+11  7/15/15 12:16     G816     7070891        70401   \n",
            "4       2.020000e+11  7/15/15 12:16     G816     7090363        70401   \n",
            "...              ...            ...      ...         ...          ...   \n",
            "5377    2.020000e+11   9/5/15 23:07      300     7308017       210101   \n",
            "5378    2.020000e+11   9/5/15 23:23     G619     7070891        70401   \n",
            "5379    2.020000e+11   9/5/15 23:24     G619     7071096        70201   \n",
            "5380    2.020000e+11   9/5/15 23:32     G619    15000231        70301   \n",
            "5381    2.020000e+11   9/5/15 23:38     G619    23030206       210101   \n",
            "\n",
            "      num_item  price  \n",
            "0          1.0    2.0  \n",
            "1          1.0    2.0  \n",
            "2          1.0    2.0  \n",
            "3          1.0    6.0  \n",
            "4          1.0    6.0  \n",
            "...        ...    ...  \n",
            "5377       1.0    3.0  \n",
            "5378       1.0    6.0  \n",
            "5379       1.0    5.0  \n",
            "5380       2.0    2.0  \n",
            "5381       1.0    2.0  \n",
            "\n",
            "[5382 rows x 7 columns]\n"
          ]
        }
      ],
      "source": [
        "#Write your code here\n",
        "df = df.drop('total', axis=1)\n",
        "print(df)\n"
      ]
    },
    {
      "cell_type": "markdown",
      "metadata": {
        "id": "xLYqgMifmAxR"
      },
      "source": [
        "Let's dig a little deeper into the data set and answer some basic question."
      ]
    },
    {
      "cell_type": "code",
      "execution_count": 72,
      "metadata": {
        "jupyter": {
          "outputs_hidden": false
        },
        "colab": {
          "base_uri": "https://localhost:8080/"
        },
        "id": "Cln4dhfsmAxR",
        "outputId": "f99e3545-1853-4d36-ed4b-9589738ad61f"
      },
      "outputs": [
        {
          "output_type": "stream",
          "name": "stdout",
          "text": [
            "5382\n"
          ]
        }
      ],
      "source": [
        "#Write your code here\n",
        "num_rows = df.shape[0]\n",
        "print(num_rows)\n"
      ]
    },
    {
      "cell_type": "markdown",
      "metadata": {
        "id": "lPQH6ZISmAxS"
      },
      "source": [
        "First, covert the column invoice time to a datetime column. Print out the new column types to make sure this was done correctly"
      ]
    },
    {
      "cell_type": "code",
      "execution_count": 73,
      "metadata": {
        "jupyter": {
          "outputs_hidden": false
        },
        "colab": {
          "base_uri": "https://localhost:8080/"
        },
        "id": "7s5DGDjpmAxS",
        "outputId": "34a968ab-723b-4ff4-ac0d-2142b14a3f6a"
      },
      "outputs": [
        {
          "output_type": "stream",
          "name": "stderr",
          "text": [
            "/tmp/ipython-input-3634550124.py:2: UserWarning: Could not infer format, so each element will be parsed individually, falling back to `dateutil`. To ensure parsing is consistent and as-expected, please specify a format.\n",
            "  df['invoice_time'] = pd.to_datetime(df['invoice_time'])\n"
          ]
        },
        {
          "output_type": "stream",
          "name": "stdout",
          "text": [
            "invoice_number           float64\n",
            "invoice_time      datetime64[ns]\n",
            "store_id                  object\n",
            "product_id                 int64\n",
            "category_id                int64\n",
            "num_item                 float64\n",
            "price                    float64\n",
            "dtype: object\n"
          ]
        }
      ],
      "source": [
        "#Write your code here\n",
        "df['invoice_time'] = pd.to_datetime(df['invoice_time'])\n",
        "print(df.dtypes)\n"
      ]
    },
    {
      "cell_type": "markdown",
      "metadata": {
        "id": "EN9HmOClmAxS"
      },
      "source": [
        "Next, let's create columns called \"DOW\" and \"Month\", which store the corresponding weekday and month of the invoice respectively.  Print the head of the dataframe to make sure this was done correctly."
      ]
    },
    {
      "cell_type": "code",
      "execution_count": 74,
      "metadata": {
        "jupyter": {
          "outputs_hidden": false
        },
        "colab": {
          "base_uri": "https://localhost:8080/"
        },
        "id": "z6xwr8DgmAxS",
        "outputId": "e322dc7f-2f0f-446e-be65-4a6c881db390"
      },
      "outputs": [
        {
          "output_type": "stream",
          "name": "stdout",
          "text": [
            "   invoice_number        invoice_time store_id  product_id  category_id  \\\n",
            "0    2.020000e+11 2015-07-15 10:45:00     G816     7000300       210101   \n",
            "1    2.020000e+11 2015-07-15 12:16:00     G816     7070884        70203   \n",
            "2    2.020000e+11 2015-07-15 12:16:00     G816     7070884        70203   \n",
            "3    2.020000e+11 2015-07-15 12:16:00     G816     7070891        70401   \n",
            "4    2.020000e+11 2015-07-15 12:16:00     G816     7090363        70401   \n",
            "\n",
            "   num_item  price        DOW  Month  \n",
            "0       1.0    2.0  Wednesday      7  \n",
            "1       1.0    2.0  Wednesday      7  \n",
            "2       1.0    2.0  Wednesday      7  \n",
            "3       1.0    6.0  Wednesday      7  \n",
            "4       1.0    6.0  Wednesday      7  \n"
          ]
        }
      ],
      "source": [
        "#Write your code here\n",
        "df['DOW'] = df['invoice_time'].dt.day_name()\n",
        "df['Month'] = df['invoice_time'].dt.month\n",
        "print(df.head())\n"
      ]
    },
    {
      "cell_type": "markdown",
      "metadata": {
        "id": "0aOdwKTymAxS"
      },
      "source": [
        "Create a variable called num_purchases_wed, which stores the number of purchases made on Wednesday?  You should use value_counts and then index the series it return."
      ]
    },
    {
      "cell_type": "code",
      "execution_count": 75,
      "metadata": {
        "jupyter": {
          "outputs_hidden": false
        },
        "colab": {
          "base_uri": "https://localhost:8080/"
        },
        "id": "C4DZZLzEmAxV",
        "outputId": "46c2b062-a92a-4e0d-921f-8b7eb68d70a8"
      },
      "outputs": [
        {
          "output_type": "stream",
          "name": "stdout",
          "text": [
            "959\n"
          ]
        }
      ],
      "source": [
        "#Write your code here\n",
        "num_purchases_wed = df['DOW'].value_counts()['Wednesday']\n",
        "print(num_purchases_wed)\n"
      ]
    },
    {
      "cell_type": "markdown",
      "metadata": {
        "id": "ehXpkn0JmAxW"
      },
      "source": [
        "# Part 3"
      ]
    },
    {
      "cell_type": "markdown",
      "metadata": {
        "id": "8N7aYaopmAxW"
      },
      "source": [
        "In this set of practice exercises, we will be working with a demographic data regarding the passengers aboard the Titanic.  Read in the data frame and use the head() method to check that it was read in correctly."
      ]
    },
    {
      "cell_type": "code",
      "execution_count": 76,
      "metadata": {
        "jupyter": {
          "outputs_hidden": false
        },
        "colab": {
          "base_uri": "https://localhost:8080/"
        },
        "id": "YYCcFfqjmAxW",
        "outputId": "8b05eb5d-51ae-47a6-e595-84e849422ad1"
      },
      "outputs": [
        {
          "output_type": "stream",
          "name": "stdout",
          "text": [
            "   PassengerId  Pclass                                          Name     Sex  \\\n",
            "0          892       3                              Kelly, Mr. James    male   \n",
            "1          893       3              Wilkes, Mrs. James (Ellen Needs)  female   \n",
            "2          894       2                     Myles, Mr. Thomas Francis    male   \n",
            "3          895       3                              Wirz, Mr. Albert    male   \n",
            "4          896       3  Hirvonen, Mrs. Alexander (Helga E Lindqvist)  female   \n",
            "\n",
            "    Age  SibSp  Parch   Ticket     Fare Cabin Embarked  \n",
            "0  34.5      0      0   330911   7.8292   NaN        Q  \n",
            "1  47.0      1      0   363272   7.0000   NaN        S  \n",
            "2  62.0      0      0   240276   9.6875   NaN        Q  \n",
            "3  27.0      0      0   315154   8.6625   NaN        S  \n",
            "4  22.0      1      1  3101298  12.2875   NaN        S  \n"
          ]
        }
      ],
      "source": [
        "#Write your code here\n",
        "file_path = '/content/drive/MyDrive/Titanic.csv'\n",
        "df_titanic = pd.read_csv(file_path)\n",
        "print(df_titanic.head())\n"
      ]
    },
    {
      "cell_type": "markdown",
      "metadata": {
        "id": "74EyVThRmAxW"
      },
      "source": [
        "Use the rename method to change the column \"Name\" to \"Passenger_Name\" and the column \"Ticket\" to \"Ticket_Num\"."
      ]
    },
    {
      "cell_type": "code",
      "execution_count": 77,
      "metadata": {
        "jupyter": {
          "outputs_hidden": false
        },
        "colab": {
          "base_uri": "https://localhost:8080/"
        },
        "id": "6CPS0iJUmAxW",
        "outputId": "92425eaf-3440-4d6e-b23f-508de7c6b08c"
      },
      "outputs": [
        {
          "output_type": "stream",
          "name": "stdout",
          "text": [
            "   PassengerId  Pclass                                Passenger_Name     Sex  \\\n",
            "0          892       3                              Kelly, Mr. James    male   \n",
            "1          893       3              Wilkes, Mrs. James (Ellen Needs)  female   \n",
            "2          894       2                     Myles, Mr. Thomas Francis    male   \n",
            "3          895       3                              Wirz, Mr. Albert    male   \n",
            "4          896       3  Hirvonen, Mrs. Alexander (Helga E Lindqvist)  female   \n",
            "\n",
            "    Age  SibSp  Parch Ticket_Num     Fare Cabin Embarked  \n",
            "0  34.5      0      0     330911   7.8292   NaN        Q  \n",
            "1  47.0      1      0     363272   7.0000   NaN        S  \n",
            "2  62.0      0      0     240276   9.6875   NaN        Q  \n",
            "3  27.0      0      0     315154   8.6625   NaN        S  \n",
            "4  22.0      1      1    3101298  12.2875   NaN        S  \n"
          ]
        }
      ],
      "source": [
        "#Write your code here\n",
        "df_titanic = df_titanic.rename(columns={'Name': 'Passenger_Name', 'Ticket': 'Ticket_Num'})\n",
        "print(df_titanic.head())\n"
      ]
    },
    {
      "cell_type": "markdown",
      "metadata": {
        "id": "-8FVmCvzmAxW"
      },
      "source": [
        "Change the index of the df_titanic to the column PasengerID."
      ]
    },
    {
      "cell_type": "code",
      "execution_count": 78,
      "metadata": {
        "jupyter": {
          "outputs_hidden": false
        },
        "scrolled": true,
        "colab": {
          "base_uri": "https://localhost:8080/"
        },
        "id": "wJaRVPvOmAxW",
        "outputId": "5ff0af16-7f40-43c5-838e-12d3f695a4fb"
      },
      "outputs": [
        {
          "output_type": "stream",
          "name": "stdout",
          "text": [
            "             Pclass                                Passenger_Name     Sex  \\\n",
            "PassengerId                                                                 \n",
            "892               3                              Kelly, Mr. James    male   \n",
            "893               3              Wilkes, Mrs. James (Ellen Needs)  female   \n",
            "894               2                     Myles, Mr. Thomas Francis    male   \n",
            "895               3                              Wirz, Mr. Albert    male   \n",
            "896               3  Hirvonen, Mrs. Alexander (Helga E Lindqvist)  female   \n",
            "\n",
            "              Age  SibSp  Parch Ticket_Num     Fare Cabin Embarked  \n",
            "PassengerId                                                         \n",
            "892          34.5      0      0     330911   7.8292   NaN        Q  \n",
            "893          47.0      1      0     363272   7.0000   NaN        S  \n",
            "894          62.0      0      0     240276   9.6875   NaN        Q  \n",
            "895          27.0      0      0     315154   8.6625   NaN        S  \n",
            "896          22.0      1      1    3101298  12.2875   NaN        S  \n"
          ]
        }
      ],
      "source": [
        "#Write your code here\n",
        "df_titanic = df_titanic.set_index('PassengerId')\n",
        "print(df_titanic.head())\n"
      ]
    },
    {
      "cell_type": "markdown",
      "metadata": {
        "id": "2D14m6i1mAxW"
      },
      "source": [
        "Select the name of passenger 896"
      ]
    },
    {
      "cell_type": "code",
      "execution_count": 79,
      "metadata": {
        "jupyter": {
          "outputs_hidden": false
        },
        "colab": {
          "base_uri": "https://localhost:8080/"
        },
        "id": "j9tzJaY3mAxW",
        "outputId": "3766486c-b1f3-4c40-9584-4cd958768915"
      },
      "outputs": [
        {
          "output_type": "stream",
          "name": "stdout",
          "text": [
            "Hirvonen, Mrs. Alexander (Helga E Lindqvist)\n"
          ]
        }
      ],
      "source": [
        "#Write your code here\n",
        "passenger_896_name = df_titanic.loc[896, 'Passenger_Name']\n",
        "print(passenger_896_name)\n"
      ]
    },
    {
      "cell_type": "markdown",
      "metadata": {
        "id": "vX35ci-cmAxW"
      },
      "source": [
        "Change the index back to row numbers but making sure that we don't lose the PassengerId column."
      ]
    },
    {
      "cell_type": "code",
      "execution_count": 80,
      "metadata": {
        "jupyter": {
          "outputs_hidden": false
        },
        "colab": {
          "base_uri": "https://localhost:8080/"
        },
        "id": "aV0jszblmAxW",
        "outputId": "409b3ab7-654a-4afd-fcd3-322923454266"
      },
      "outputs": [
        {
          "output_type": "stream",
          "name": "stdout",
          "text": [
            "   PassengerId  Pclass                                Passenger_Name     Sex  \\\n",
            "0          892       3                              Kelly, Mr. James    male   \n",
            "1          893       3              Wilkes, Mrs. James (Ellen Needs)  female   \n",
            "2          894       2                     Myles, Mr. Thomas Francis    male   \n",
            "3          895       3                              Wirz, Mr. Albert    male   \n",
            "4          896       3  Hirvonen, Mrs. Alexander (Helga E Lindqvist)  female   \n",
            "\n",
            "    Age  SibSp  Parch Ticket_Num     Fare Cabin Embarked  \n",
            "0  34.5      0      0     330911   7.8292   NaN        Q  \n",
            "1  47.0      1      0     363272   7.0000   NaN        S  \n",
            "2  62.0      0      0     240276   9.6875   NaN        Q  \n",
            "3  27.0      0      0     315154   8.6625   NaN        S  \n",
            "4  22.0      1      1    3101298  12.2875   NaN        S  \n"
          ]
        }
      ],
      "source": [
        "#Write your code here\n",
        "df_titanic = df_titanic.reset_index()\n",
        "print(df_titanic.head())\n"
      ]
    },
    {
      "cell_type": "markdown",
      "metadata": {
        "id": "vDtXuE5cmAxW"
      },
      "source": [
        "How many missing entries are there in the Age column? Use the isnull() method and recall than Booleans are exactly like 1s (True) and 0s (False)."
      ]
    },
    {
      "cell_type": "code",
      "execution_count": 81,
      "metadata": {
        "jupyter": {
          "outputs_hidden": false
        },
        "colab": {
          "base_uri": "https://localhost:8080/"
        },
        "id": "rDXzCUS7mAxW",
        "outputId": "9bc086a7-30cb-42c8-fed5-cfef05333303"
      },
      "outputs": [
        {
          "output_type": "stream",
          "name": "stdout",
          "text": [
            "86\n"
          ]
        }
      ],
      "source": [
        "#Write you code here\n",
        "num_missing_age = df_titanic['Age'].isnull().sum()\n",
        "print(num_missing_age)\n"
      ]
    },
    {
      "cell_type": "markdown",
      "metadata": {
        "id": "gnYS-rRjmAxX"
      },
      "source": [
        "Compute the avg age of passengers ignoring the missing data."
      ]
    },
    {
      "cell_type": "code",
      "execution_count": 82,
      "metadata": {
        "jupyter": {
          "outputs_hidden": false
        },
        "colab": {
          "base_uri": "https://localhost:8080/"
        },
        "id": "WhTXYSOVmAxX",
        "outputId": "9d593943-e5ac-4cd1-d808-dc8a729c3e7e"
      },
      "outputs": [
        {
          "output_type": "stream",
          "name": "stdout",
          "text": [
            "30.272590361445783\n"
          ]
        }
      ],
      "source": [
        "#Write your code here\n",
        "avg_age = df_titanic['Age'].mean()\n",
        "print(avg_age)\n"
      ]
    },
    {
      "cell_type": "markdown",
      "metadata": {
        "id": "VvhELnXUmAxX"
      },
      "source": [
        "Using the fillna() method replace the missing values in the Age column with the mean."
      ]
    },
    {
      "cell_type": "code",
      "execution_count": 83,
      "metadata": {
        "jupyter": {
          "outputs_hidden": false
        },
        "colab": {
          "base_uri": "https://localhost:8080/"
        },
        "id": "_Bc0UcwAmAxX",
        "outputId": "13395aff-ce07-433d-f1c8-f2af65be4ef0"
      },
      "outputs": [
        {
          "output_type": "stream",
          "name": "stdout",
          "text": [
            "   PassengerId  Pclass                                Passenger_Name     Sex  \\\n",
            "0          892       3                              Kelly, Mr. James    male   \n",
            "1          893       3              Wilkes, Mrs. James (Ellen Needs)  female   \n",
            "2          894       2                     Myles, Mr. Thomas Francis    male   \n",
            "3          895       3                              Wirz, Mr. Albert    male   \n",
            "4          896       3  Hirvonen, Mrs. Alexander (Helga E Lindqvist)  female   \n",
            "\n",
            "    Age  SibSp  Parch Ticket_Num     Fare Cabin Embarked  \n",
            "0  34.5      0      0     330911   7.8292   NaN        Q  \n",
            "1  47.0      1      0     363272   7.0000   NaN        S  \n",
            "2  62.0      0      0     240276   9.6875   NaN        Q  \n",
            "3  27.0      0      0     315154   8.6625   NaN        S  \n",
            "4  22.0      1      1    3101298  12.2875   NaN        S  \n"
          ]
        },
        {
          "output_type": "stream",
          "name": "stderr",
          "text": [
            "/tmp/ipython-input-282200394.py:2: FutureWarning: A value is trying to be set on a copy of a DataFrame or Series through chained assignment using an inplace method.\n",
            "The behavior will change in pandas 3.0. This inplace method will never work because the intermediate object on which we are setting values always behaves as a copy.\n",
            "\n",
            "For example, when doing 'df[col].method(value, inplace=True)', try using 'df.method({col: value}, inplace=True)' or df[col] = df[col].method(value) instead, to perform the operation inplace on the original object.\n",
            "\n",
            "\n",
            "  df_titanic['Age'].fillna(avg_age, inplace=True)\n"
          ]
        }
      ],
      "source": [
        "#Write your code here\n",
        "df_titanic['Age'].fillna(avg_age, inplace=True)\n",
        "print(df_titanic.head())\n"
      ]
    },
    {
      "cell_type": "markdown",
      "metadata": {
        "id": "wrm2kORfmAxX"
      },
      "source": [
        "What is the average age of the 5 oldest passengers? The reset_index method will be helpful here."
      ]
    },
    {
      "cell_type": "code",
      "execution_count": 84,
      "metadata": {
        "jupyter": {
          "outputs_hidden": false
        },
        "id": "uXNxE5xRmAxX"
      },
      "outputs": [],
      "source": [
        "#Write your code here\n",
        "df_titanic = df_titanic.sort_values(by='Age', ascending=False)\n",
        "df_titanic = df_titanic.reset_index(drop=True)\n",
        "avg_age_5_oldest = df_titanic.loc[:4, 'Age'].mean()\n"
      ]
    }
  ],
  "metadata": {
    "kernelspec": {
      "display_name": "Python [conda env:base] *",
      "language": "python",
      "name": "conda-base-py"
    },
    "language_info": {
      "codemirror_mode": {
        "name": "ipython",
        "version": 3
      },
      "file_extension": ".py",
      "mimetype": "text/x-python",
      "name": "python",
      "nbconvert_exporter": "python",
      "pygments_lexer": "ipython3",
      "version": "3.12.7"
    },
    "toc": {
      "nav_menu": {
        "height": "48px",
        "width": "252px"
      },
      "number_sections": true,
      "sideBar": true,
      "skip_h1_title": false,
      "toc_cell": false,
      "toc_position": {},
      "toc_section_display": "block",
      "toc_window_display": false
    },
    "colab": {
      "provenance": []
    }
  },
  "nbformat": 4,
  "nbformat_minor": 0
}