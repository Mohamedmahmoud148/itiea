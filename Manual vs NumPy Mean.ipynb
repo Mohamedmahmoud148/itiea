{
  "nbformat": 4,
  "nbformat_minor": 0,
  "metadata": {
    "colab": {
      "provenance": []
    },
    "kernelspec": {
      "name": "python3",
      "display_name": "Python 3"
    },
    "language_info": {
      "name": "python"
    }
  },
  "cells": [
    {
      "cell_type": "markdown",
      "source": [
        "Given a list of student ages:\n",
        "ages = [18, 21, 20, 19, 22, 23, 20, 21, 22, 19]\n",
        "• Compute the mean manually (using sum and len).\n",
        "• Verify using numpy.mean()."
      ],
      "metadata": {
        "id": "9KYunellL9tk"
      }
    },
    {
      "cell_type": "code",
      "execution_count": 1,
      "metadata": {
        "colab": {
          "base_uri": "https://localhost:8080/"
        },
        "id": "ppO83eLGKqUq",
        "outputId": "f9f8e205-36e7-4a58-baba-0cae5b0da812"
      },
      "outputs": [
        {
          "output_type": "stream",
          "name": "stdout",
          "text": [
            "Manual Mean: 20.5\n",
            "NumPy Mean: 20.5\n"
          ]
        }
      ],
      "source": [
        "import numpy as np\n",
        "ages = [18, 21, 20, 19, 22, 23, 20, 21, 22, 19]\n",
        "mean_manual = sum(ages) / len(ages)\n",
        "print(\"Manual Mean:\", mean_manual)\n",
        "\n",
        "# NumPy mean\n",
        "mean_numpy = np.mean(ages)\n",
        "print(\"NumPy Mean:\", mean_numpy)"
      ]
    },
    {
      "cell_type": "markdown",
      "source": [
        "Generate a list of 15 random integers between 10 and 50.\n",
        "• Find the median manually (without numpy.median()).\n",
        "• Check with NumPy’s median."
      ],
      "metadata": {
        "id": "yKHWVVRmMs2y"
      }
    },
    {
      "cell_type": "code",
      "source": [
        "import random\n",
        "import numpy as np\n",
        "random_integers = [random.randint(10, 50) for _ in range(15)]\n",
        "print(\"Random Integers:\", random_integers)\n",
        "\n",
        "# Manual median (without numpy.median)\n",
        "sorted_numbers = sorted(random_integers)\n",
        "n = len(sorted_numbers)\n",
        "if n % 2 == 1:  # odd length\n",
        "    median_manual = sorted_numbers[n // 2]\n",
        "else:  # even length\n",
        "    median_manual = (sorted_numbers[n // 2 - 1] + sorted_numbers[n // 2]) / 2\n",
        "print(\"Manual Median:\", median_manual)\n",
        "\n",
        "# NumPy median\n",
        "median_numpy = np.median(random_integers)\n",
        "print(\"NumPy Median:\", median_numpy)"
      ],
      "metadata": {
        "colab": {
          "base_uri": "https://localhost:8080/"
        },
        "id": "-pq9UT9OMsdp",
        "outputId": "883a560e-8e9d-4a2b-a0aa-1a7b3b695580"
      },
      "execution_count": 4,
      "outputs": [
        {
          "output_type": "stream",
          "name": "stdout",
          "text": [
            "Random Integers: [40, 45, 22, 24, 24, 29, 45, 38, 35, 13, 42, 50, 46, 20, 42]\n",
            "Manual Median: 38\n",
            "NumPy Median: 38.0\n"
          ]
        }
      ]
    },
    {
      "cell_type": "markdown",
      "source": [],
      "metadata": {
        "id": "LrgYPqX_OVSs"
      }
    },
    {
      "cell_type": "code",
      "source": [
        "# Manual calculation\n",
        "min_val = min(random_integers)\n",
        "max_val = max(random_integers)\n",
        "range_val = max_val - min_val\n",
        "print(\"Manual Min:\", min_val)\n",
        "print(\"Manual Max:\", max_val)\n",
        "print(\"Manual Range:\", range_val)\n",
        "\n",
        "# NumPy calculation\n",
        "min_np = np.min(random_integers)\n",
        "max_np = np.max(random_integers)\n",
        "range_np = np.ptp(random_integers)  # peak-to-peak (max - min)\n",
        "print(\"NumPy Min:\", min_np)\n",
        "print(\"NumPy Max:\", max_np)\n",
        "print(\"NumPy Range:\", range_np)"
      ],
      "metadata": {
        "colab": {
          "base_uri": "https://localhost:8080/"
        },
        "id": "q6kkUvNwNIyB",
        "outputId": "1ee029a7-8fd8-4a72-8e0c-94c70262adf6"
      },
      "execution_count": 5,
      "outputs": [
        {
          "output_type": "stream",
          "name": "stdout",
          "text": [
            "Manual Min: 13\n",
            "Manual Max: 50\n",
            "Manual Range: 37\n",
            "NumPy Min: 13\n",
            "NumPy Max: 50\n",
            "NumPy Range: 37\n"
          ]
        }
      ]
    },
    {
      "cell_type": "markdown",
      "source": [],
      "metadata": {
        "id": "72B8mwt4MsJQ"
      }
    },
    {
      "cell_type": "code",
      "source": [],
      "metadata": {
        "id": "WOAcpHW2O3SA"
      },
      "execution_count": null,
      "outputs": []
    },
    {
      "cell_type": "code",
      "metadata": {
        "colab": {
          "base_uri": "https://localhost:8080/"
        },
        "id": "7298ab9a",
        "outputId": "8c89c33e-0c6a-454c-d627-fb014cc2f2e9"
      },
      "source": [
        "import numpy as np\n",
        "\n",
        "data = [5, 7, 3, 7, 9, 10, 15, 7]\n",
        "\n",
        "# Manual Variance\n",
        "mean_data = sum(data) / len(data)\n",
        "variance_manual = sum((x - mean_data) ** 2 for x in data) / len(data)\n",
        "\n",
        "# Manual Standard Deviation\n",
        "std_dev_manual = variance_manual ** 0.5\n",
        "\n",
        "print(\"Manual Variance:\", variance_manual)\n",
        "print(\"Manual Standard Deviation:\", std_dev_manual)\n",
        "\n",
        "# NumPy\n",
        "variance_np = np.var(data)\n",
        "std_dev_np = np.std(data)\n",
        "print(\"NumPy Variance:\", variance_np)\n",
        "print(\"NumPy Standard Deviation:\", std_dev_np)"
      ],
      "execution_count": 6,
      "outputs": [
        {
          "output_type": "stream",
          "name": "stdout",
          "text": [
            "Manual Variance: 11.359375\n",
            "Manual Standard Deviation: 3.370367190678191\n",
            "NumPy Variance: 11.359375\n",
            "NumPy Standard Deviation: 3.370367190678191\n"
          ]
        }
      ]
    },
    {
      "cell_type": "code",
      "source": [],
      "metadata": {
        "id": "9zseuSu9PDQe"
      },
      "execution_count": null,
      "outputs": []
    },
    {
      "cell_type": "code",
      "metadata": {
        "colab": {
          "base_uri": "https://localhost:8080/"
        },
        "id": "518af7d2",
        "outputId": "89781462-afbe-4d0f-ad63-8957c181f623"
      },
      "source": [
        "import numpy as np\n",
        "\n",
        "dataset = [10, 15, 14, 18, 21, 22, 25, 28, 30, 35, 40, 45]\n",
        "\n",
        "q1 = np.percentile(dataset, 25)\n",
        "q2 = np.percentile(dataset, 50)\n",
        "q3 = np.percentile(dataset, 75)\n",
        "iqr = q3 - q1\n",
        "\n",
        "print(\"Q1 (25th percentile):\", q1)\n",
        "print(\"Q2 (Median / 50th percentile):\", q2)\n",
        "print(\"Q3 (75th percentile):\", q3)\n",
        "print(\"IQR:\", iqr)"
      ],
      "execution_count": 7,
      "outputs": [
        {
          "output_type": "stream",
          "name": "stdout",
          "text": [
            "Q1 (25th percentile): 17.25\n",
            "Q2 (Median / 50th percentile): 23.5\n",
            "Q3 (75th percentile): 31.25\n",
            "IQR: 14.0\n"
          ]
        }
      ]
    },
    {
      "cell_type": "code",
      "metadata": {
        "colab": {
          "base_uri": "https://localhost:8080/"
        },
        "id": "6c92940a",
        "outputId": "5bbe2515-efe8-4eb3-9d41-1bf64fd9399c"
      },
      "source": [
        "def z_score_normalization(data):\n",
        "    mean_val = sum(data) / len(data)\n",
        "    std_val = (sum((x - mean_val) ** 2 for x in data) / len(data)) ** 0.5\n",
        "    return [(x - mean_val) / std_val for x in data]\n",
        "\n",
        "sample_data = [10, 20, 30, 40, 50]\n",
        "z_scores = z_score_normalization(sample_data)\n",
        "print(\"Original Data:\", sample_data)\n",
        "print(\"Z-Scores:\", z_scores)"
      ],
      "execution_count": 8,
      "outputs": [
        {
          "output_type": "stream",
          "name": "stdout",
          "text": [
            "Original Data: [10, 20, 30, 40, 50]\n",
            "Z-Scores: [-1.414213562373095, -0.7071067811865475, 0.0, 0.7071067811865475, 1.414213562373095]\n"
          ]
        }
      ]
    },
    {
      "cell_type": "code",
      "metadata": {
        "colab": {
          "base_uri": "https://localhost:8080/"
        },
        "id": "34cb81fa",
        "outputId": "b97e31a7-ad40-4e8d-9206-bc11fe5867a4"
      },
      "source": [
        "# Generate random list\n",
        "import random\n",
        "import numpy as np\n",
        "\n",
        "nums = [random.randint(1, 100) for _ in range(20)]\n",
        "print(\"Numbers:\", nums)\n",
        "\n",
        "# Manual moving average with window size 3\n",
        "window_size = 3\n",
        "moving_avg_manual = [\n",
        "    sum(nums[i:i+window_size]) / window_size\n",
        "    for i in range(len(nums) - window_size + 1)\n",
        "]\n",
        "print(\"Manual Moving Average:\", moving_avg_manual)\n",
        "\n",
        "# NumPy moving average using convolve\n",
        "moving_avg_np = np.convolve(nums, np.ones(window_size)/window_size, mode='valid')\n",
        "print(\"NumPy Moving Average:\", moving_avg_np)"
      ],
      "execution_count": 9,
      "outputs": [
        {
          "output_type": "stream",
          "name": "stdout",
          "text": [
            "Numbers: [64, 18, 94, 89, 48, 40, 70, 58, 7, 74, 15, 88, 56, 54, 54, 19, 57, 33, 89, 9]\n",
            "Manual Moving Average: [58.666666666666664, 67.0, 77.0, 59.0, 52.666666666666664, 56.0, 45.0, 46.333333333333336, 32.0, 59.0, 53.0, 66.0, 54.666666666666664, 42.333333333333336, 43.333333333333336, 36.333333333333336, 59.666666666666664, 43.666666666666664]\n",
            "NumPy Moving Average: [58.66666667 67.         77.         59.         52.66666667 56.\n",
            " 45.         46.33333333 32.         59.         53.         66.\n",
            " 54.66666667 42.33333333 43.33333333 36.33333333 59.66666667 43.66666667]\n"
          ]
        }
      ]
    },
    {
      "cell_type": "code",
      "metadata": {
        "colab": {
          "base_uri": "https://localhost:8080/"
        },
        "id": "10d20d00",
        "outputId": "a56c61c1-b813-4902-97a7-b290fed2d520"
      },
      "source": [
        "# Generate numbers and add outliers\n",
        "import random\n",
        "import numpy as np\n",
        "\n",
        "data_with_outliers = [random.randint(1, 50) for _ in range(25)] + [300, 400]\n",
        "print(\"Data:\", data_with_outliers)\n",
        "\n",
        "# Calculate IQR\n",
        "q1 = np.percentile(data_with_outliers, 25)\n",
        "q3 = np.percentile(data_with_outliers, 75)\n",
        "iqr = q3 - q1\n",
        "\n",
        "# Outlier thresholds\n",
        "lower_bound = q1 - 1.5 * iqr\n",
        "upper_bound = q3 + 1.5 * iqr\n",
        "\n",
        "# Detect outliers\n",
        "outliers = [x for x in data_with_outliers if x < lower_bound or x > upper_bound]\n",
        "print(\"Outliers:\", outliers)"
      ],
      "execution_count": 10,
      "outputs": [
        {
          "output_type": "stream",
          "name": "stdout",
          "text": [
            "Data: [24, 38, 8, 50, 22, 32, 10, 23, 47, 38, 26, 47, 4, 15, 28, 19, 19, 14, 20, 21, 12, 46, 20, 1, 38, 300, 400]\n",
            "Outliers: [300, 400]\n"
          ]
        }
      ]
    }
  ]
}